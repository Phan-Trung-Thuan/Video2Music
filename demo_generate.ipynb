{
 "cells": [
  {
   "cell_type": "markdown",
   "metadata": {
    "id": "pUr1rlx1W1xI"
   },
   "source": [
    "**Clean up**"
   ]
  },
  {
   "cell_type": "code",
   "execution_count": null,
   "metadata": {
    "colab": {
     "base_uri": "https://localhost:8080/"
    },
    "id": "A0ELxIKjXC2I",
    "outputId": "9775eb26-d9a8-4f2a-8650-961224695ae0",
    "trusted": true
   },
   "outputs": [],
   "source": [
    "%cd /kaggle/working\n",
    "!rm -rf Video2Music"
   ]
  },
  {
   "cell_type": "markdown",
   "metadata": {
    "id": "sfw3MqjjXIie"
   },
   "source": [
    "**Installation (according to github)**"
   ]
  },
  {
   "cell_type": "code",
   "execution_count": null,
   "metadata": {
    "trusted": true
   },
   "outputs": [],
   "source": [
    "!git clone https://github.com/Phan-Trung-Thuan/Video2Music.git"
   ]
  },
  {
   "cell_type": "code",
   "execution_count": null,
   "metadata": {
    "trusted": true
   },
   "outputs": [],
   "source": [
    "%cd /kaggle/working/Video2Music"
   ]
  },
  {
   "cell_type": "code",
   "execution_count": null,
   "metadata": {
    "colab": {
     "base_uri": "https://localhost:8080/"
    },
    "id": "DV9Au2ZK24Ka",
    "outputId": "ce037a79-4c5d-422c-9581-901d9311627b",
    "scrolled": true,
    "trusted": true
   },
   "outputs": [],
   "source": [
    "!apt-get update -y\n",
    "!apt-get install ffmpeg -y\n",
    "!apt-get install fluidsynth -y\n",
    "!pip install -r requirements.txt\n",
    "!pip install --upgrade gensim\n",
    "!apt instw32all imagemagick -y\n",
    "!apt install libmagick++-dev -y\n",
    "!cat /etc/ImageMagick-6/policy.xml | sed 's/none/read,write/g'> /etc/ImageMagick-6/policy.xml"
   ]
  },
  {
   "cell_type": "markdown",
   "metadata": {
    "id": "Au9ybOafXXRu"
   },
   "source": [
    "**RESTART SESSION FIRST THEN PROCESS TO BELOW**"
   ]
  },
  {
   "cell_type": "markdown",
   "metadata": {
    "id": "sjDt4-Fv_XGS"
   },
   "source": [
    "You can use default input.mp4 in directory Video2Music or download a mp4 video that has no sound from external source"
   ]
  },
  {
   "cell_type": "markdown",
   "metadata": {},
   "source": [
    "Download\n",
    "* Download your best weight (AMT and regression model) and put under the directory `saved_models/AMT`\n",
    "* Download soundfonts and put under the directory `soundfonts`"
   ]
  },
  {
   "cell_type": "markdown",
   "metadata": {
    "id": "TYNal63AakGa"
   },
   "source": [
    "**Generating**"
   ]
  },
  {
   "cell_type": "code",
   "execution_count": null,
   "metadata": {
    "trusted": true
   },
   "outputs": [],
   "source": [
    "%cd /kaggle/working/Video2Music"
   ]
  },
  {
   "cell_type": "code",
   "execution_count": null,
   "metadata": {
    "scrolled": true,
    "trusted": true
   },
   "outputs": [],
   "source": [
    "# import IPython\n",
    "from video2music import Video2music\n",
    "\n",
    "input_video = \"input.mp4\"\n",
    "\n",
    "print(\"Generate music for video: \" + input_video)\n",
    "input_primer = \"C Am F G\"\n",
    "input_key = \"C major\"\n",
    "\n",
    "video2music = Video2music()\n",
    "output_filename = video2music.generate(input_video, primer=input_primer, key=input_key, \n",
    "                                       transposition_value=0, custom_sound_font=False, temperature=1.0)"
   ]
  }
 ],
 "metadata": {
  "accelerator": "GPU",
  "colab": {
   "gpuType": "T4",
   "provenance": []
  },
  "kaggle": {
   "accelerator": "gpu",
   "dataSources": [
    {
     "datasetId": 6399793,
     "sourceId": 10335532,
     "sourceType": "datasetVersion"
    }
   ],
   "dockerImageVersionId": 30699,
   "isGpuEnabled": true,
   "isInternetEnabled": true,
   "language": "python",
   "sourceType": "notebook"
  },
  "kernelspec": {
   "display_name": "Python 3",
   "language": "python",
   "name": "python3"
  },
  "language_info": {
   "codemirror_mode": {
    "name": "ipython",
    "version": 3
   },
   "file_extension": ".py",
   "mimetype": "text/x-python",
   "name": "python",
   "nbconvert_exporter": "python",
   "pygments_lexer": "ipython3",
   "version": "3.10.13"
  }
 },
 "nbformat": 4,
 "nbformat_minor": 4
}
